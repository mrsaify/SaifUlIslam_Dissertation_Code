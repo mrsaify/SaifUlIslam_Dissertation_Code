{
 "cells": [
  {
   "cell_type": "code",
   "execution_count": 7,
   "id": "967febef-39b0-419b-91b0-21613115d94d",
   "metadata": {},
   "outputs": [],
   "source": [
    "import pandas as pd"
   ]
  },
  {
   "cell_type": "code",
   "execution_count": 8,
   "id": "ac231e6c-1b5c-453c-a80e-786cc4b5acbe",
   "metadata": {},
   "outputs": [
    {
     "name": "stderr",
     "output_type": "stream",
     "text": [
      "C:\\Users\\Administrator\\AppData\\Local\\Temp\\35\\ipykernel_8084\\3486354803.py:3: DtypeWarning: Columns (84,86,87) have mixed types. Specify dtype option on import or set low_memory=False.\n",
      "  attack_df = pd.read_csv(attack_path)\n"
     ]
    },
    {
     "name": "stdout",
     "output_type": "stream",
     "text": [
      "✅ Attack data rows: 12632833\n"
     ]
    }
   ],
   "source": [
    "# Load attack CSV\n",
    "attack_path = r\"C:\\Users\\Administrator\\Desktop\\Saif\\CIC_Modbus_Research\\Final_Clean_Merged\\final_combined_attack_multiclass_full.csv\"\n",
    "attack_df = pd.read_csv(attack_path)\n",
    "print(f\"✅ Attack data rows: {attack_df.shape[0]}\")"
   ]
  },
  {
   "cell_type": "code",
   "execution_count": 9,
   "id": "93154570-9620-42a6-a0dc-ee512c47a48c",
   "metadata": {},
   "outputs": [
    {
     "name": "stdout",
     "output_type": "stream",
     "text": [
      "✅ Benign data rows: 11844121\n"
     ]
    }
   ],
   "source": [
    "# Load benign CSV\n",
    "benign_path = r\"C:\\Users\\Administrator\\Desktop\\Saif\\CIC_Modbus_Research\\Final_Clean_Merged\\combined_benign.csv\"\n",
    "benign_df = pd.read_csv(benign_path)\n",
    "print(f\"✅ Benign data rows: {benign_df.shape[0]}\")"
   ]
  },
  {
   "cell_type": "code",
   "execution_count": 10,
   "id": "d2a482e2-a5b1-4d58-a643-67630eb98fc9",
   "metadata": {},
   "outputs": [
    {
     "name": "stdout",
     "output_type": "stream",
     "text": [
      "Running benign load test\n",
      "✅ Loaded benign data\n"
     ]
    }
   ],
   "source": [
    "print(\"Running benign load test\")\n",
    "benign_df = pd.read_csv(benign_path)\n",
    "print(\"✅ Loaded benign data\")"
   ]
  },
  {
   "cell_type": "code",
   "execution_count": 11,
   "id": "eb2b3a61-b9b8-412d-9a2f-3241e4d04670",
   "metadata": {},
   "outputs": [
    {
     "name": "stdout",
     "output_type": "stream",
     "text": [
      "✅ Benign data labels: [0]\n"
     ]
    }
   ],
   "source": [
    "print(\"✅ Benign data labels:\", benign_df['Label'].unique())"
   ]
  },
  {
   "cell_type": "code",
   "execution_count": 12,
   "id": "a844cf27-c913-48b7-8aef-7e95d91af04e",
   "metadata": {},
   "outputs": [
    {
     "name": "stdout",
     "output_type": "stream",
     "text": [
      "Attack labels distribution:\n",
      " Label\n",
      "No Label                                     12589046\n",
      "Length manipulation                              8387\n",
      "Replay                                           5053\n",
      "Brute force or specific coil. Address: 13        4017\n",
      "Brute force or specific coil. Address: 1         3519\n",
      "Brute force or specific - Complete               3002\n",
      "Payload injection                                2596\n",
      "Stacked Modbus Frames                            2314\n",
      "Query Flooding                                   2298\n",
      "Length manipulation - Complete                   2273\n",
      "Stacked Modbus Frames - Complete                 1992\n",
      "Recon. Range: 2000                               1741\n",
      "Query flooding. Complete                         1639\n",
      "Payload injection - Complete                     1611\n",
      "Recon. Complete                                  1587\n",
      "Replay - Complete                                1423\n",
      "Recon. Range: 125                                 315\n",
      "Brute force or specific coil. Address: 14          20\n",
      "Name: count, dtype: int64\n"
     ]
    }
   ],
   "source": [
    "print(\"Attack labels distribution:\\n\", attack_df['Label'].value_counts())\n"
   ]
  },
  {
   "cell_type": "code",
   "execution_count": 13,
   "id": "93dc408e-848c-427a-86da-2726661e90bc",
   "metadata": {},
   "outputs": [
    {
     "name": "stdout",
     "output_type": "stream",
     "text": [
      "🔢 Original attack data rows: 12632833\n",
      "✅ Attack data rows after dropping 'No Label': 43787\n",
      "🔍 Remaining unique labels: ['Stacked Modbus Frames' 'Stacked Modbus Frames - Complete'\n",
      " 'Brute force or specific coil. Address: 13' 'Replay' 'Replay - Complete'\n",
      " 'Recon. Range: 2000' 'Query Flooding' 'Recon. Complete'\n",
      " 'Query flooding. Complete' 'Payload injection - Complete'\n",
      " 'Payload injection' 'Length manipulation'\n",
      " 'Length manipulation - Complete'\n",
      " 'Brute force or specific coil. Address: 1'\n",
      " 'Brute force or specific - Complete'\n",
      " 'Brute force or specific coil. Address: 14' 'Recon. Range: 125']\n",
      "💾 Filtered attack-only CSV saved at: C:\\Users\\Administrator\\Desktop\\Saif\\CIC_Modbus_Research\\Final_Clean_Merged\\final_attack_only.csv\n"
     ]
    }
   ],
   "source": [
    "import pandas as pd\n",
    "\n",
    "# Load attack dataset\n",
    "attack_path = r\"C:\\Users\\Administrator\\Desktop\\Saif\\CIC_Modbus_Research\\Final_Clean_Merged\\final_combined_attack_multiclass_full.csv\"\n",
    "attack_df = pd.read_csv(attack_path, low_memory=False)\n",
    "\n",
    "# Check original total rows\n",
    "print(f\"🔢 Original attack data rows: {attack_df.shape[0]}\")\n",
    "\n",
    "# Drop rows where Label is 'No Label'\n",
    "filtered_attack_df = attack_df[attack_df['Label'] != 'No Label']\n",
    "\n",
    "# Check rows after dropping 'No Label'\n",
    "print(f\"✅ Attack data rows after dropping 'No Label': {filtered_attack_df.shape[0]}\")\n",
    "\n",
    "# Optional: Check unique labels remaining\n",
    "print(\"🔍 Remaining unique labels:\", filtered_attack_df['Label'].unique())\n",
    "\n",
    "# Save the filtered dataframe to new CSV\n",
    "output_path = r\"C:\\Users\\Administrator\\Desktop\\Saif\\CIC_Modbus_Research\\Final_Clean_Merged\\final_attack_only.csv\"\n",
    "filtered_attack_df.to_csv(output_path, index=False)\n",
    "print(f\"💾 Filtered attack-only CSV saved at: {output_path}\")\n"
   ]
  },
  {
   "cell_type": "code",
   "execution_count": 15,
   "id": "b4328cae-f2e0-4ada-a165-78afeb8e2d4b",
   "metadata": {},
   "outputs": [
    {
     "name": "stdout",
     "output_type": "stream",
     "text": [
      "✅ Sample created and saved at: C:\\Users\\Administrator\\Desktop\\Saif\\CIC_Modbus_Research\\Final_Clean_Merged\\benign_sample_100k.csv\n",
      "🔢 Sample shape: (100000, 84)\n"
     ]
    }
   ],
   "source": [
    "import pandas as pd\n",
    "\n",
    "# Load combined benign file\n",
    "benign_path = r\"C:\\Users\\Administrator\\Desktop\\Saif\\CIC_Modbus_Research\\Final_Clean_Merged\\combined_benign.csv\"\n",
    "benign_df = pd.read_csv(benign_path)\n",
    "\n",
    "# Random sample 100,000 rows\n",
    "benign_sample_df = benign_df.sample(n=100000, random_state=42)\n",
    "\n",
    "# Save sampled file in the same location\n",
    "output_path = r\"C:\\Users\\Administrator\\Desktop\\Saif\\CIC_Modbus_Research\\Final_Clean_Merged\\benign_sample_100k.csv\"\n",
    "benign_sample_df.to_csv(output_path, index=False)\n",
    "\n",
    "print(\"✅ Sample created and saved at:\", output_path)\n",
    "print(\"🔢 Sample shape:\", benign_sample_df.shape)\n"
   ]
  },
  {
   "cell_type": "code",
   "execution_count": 16,
   "id": "c661800b-35ef-4c7d-ad49-857ac7f591fb",
   "metadata": {},
   "outputs": [
    {
     "name": "stderr",
     "output_type": "stream",
     "text": [
      "C:\\Users\\Administrator\\AppData\\Local\\Temp\\35\\ipykernel_8084\\4107025670.py:5: DtypeWarning: Columns (87) have mixed types. Specify dtype option on import or set low_memory=False.\n",
      "  attack_df = pd.read_csv(attack_path)\n"
     ]
    },
    {
     "name": "stdout",
     "output_type": "stream",
     "text": [
      "✅ Combined dataset saved at: C:\\Users\\Administrator\\Desktop\\Saif\\CIC_Modbus_Research\\Final_Clean_Merged\\combined_attack_benign.csv\n",
      "🔢 Final shape: (143787, 88)\n",
      "🔍 Label distribution:\n",
      " Label\n",
      "0                                            100000\n",
      "Length manipulation                            8387\n",
      "Replay                                         5053\n",
      "Brute force or specific coil. Address: 13      4017\n",
      "Brute force or specific coil. Address: 1       3519\n",
      "Brute force or specific - Complete             3002\n",
      "Payload injection                              2596\n",
      "Stacked Modbus Frames                          2314\n",
      "Query Flooding                                 2298\n",
      "Length manipulation - Complete                 2273\n",
      "Stacked Modbus Frames - Complete               1992\n",
      "Recon. Range: 2000                             1741\n",
      "Query flooding. Complete                       1639\n",
      "Payload injection - Complete                   1611\n",
      "Recon. Complete                                1587\n",
      "Replay - Complete                              1423\n",
      "Recon. Range: 125                               315\n",
      "Brute force or specific coil. Address: 14        20\n",
      "Name: count, dtype: int64\n"
     ]
    }
   ],
   "source": [
    "import pandas as pd\n",
    "\n",
    "# Load attack dataset\n",
    "attack_path = r\"C:\\Users\\Administrator\\Desktop\\Saif\\CIC_Modbus_Research\\Final_Clean_Merged\\final_attack_only.csv\"\n",
    "attack_df = pd.read_csv(attack_path)\n",
    "\n",
    "# Load sampled benign dataset\n",
    "benign_path = r\"C:\\Users\\Administrator\\Desktop\\Saif\\CIC_Modbus_Research\\Final_Clean_Merged\\benign_sample_100k.csv\"\n",
    "benign_df = pd.read_csv(benign_path)\n",
    "\n",
    "# Standardise label column name if needed\n",
    "benign_df.rename(columns={'Label': 'Label'}, inplace=True)  # adjust if different\n",
    "\n",
    "# Combine\n",
    "combined_df = pd.concat([attack_df, benign_df], ignore_index=True)\n",
    "\n",
    "# Save combined dataset\n",
    "output_path = r\"C:\\Users\\Administrator\\Desktop\\Saif\\CIC_Modbus_Research\\Final_Clean_Merged\\combined_attack_benign.csv\"\n",
    "combined_df.to_csv(output_path, index=False)\n",
    "\n",
    "print(\"✅ Combined dataset saved at:\", output_path)\n",
    "print(\"🔢 Final shape:\", combined_df.shape)\n",
    "print(\"🔍 Label distribution:\\n\", combined_df['Label'].value_counts())\n"
   ]
  },
  {
   "cell_type": "code",
   "execution_count": null,
   "id": "8c1f44ec-e48d-4c75-8eb8-ceda62643f87",
   "metadata": {},
   "outputs": [],
   "source": []
  }
 ],
 "metadata": {
  "kernelspec": {
   "display_name": "Python 3 (ipykernel)",
   "language": "python",
   "name": "python3"
  },
  "language_info": {
   "codemirror_mode": {
    "name": "ipython",
    "version": 3
   },
   "file_extension": ".py",
   "mimetype": "text/x-python",
   "name": "python",
   "nbconvert_exporter": "python",
   "pygments_lexer": "ipython3",
   "version": "3.13.5"
  }
 },
 "nbformat": 4,
 "nbformat_minor": 5
}
