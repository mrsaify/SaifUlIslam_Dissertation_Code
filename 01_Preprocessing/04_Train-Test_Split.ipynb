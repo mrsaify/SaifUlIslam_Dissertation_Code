{
 "cells": [
  {
   "cell_type": "code",
   "execution_count": 1,
   "id": "4f8ad8a1-d9e7-4624-99ff-801916b0a52e",
   "metadata": {},
   "outputs": [
    {
     "name": "stderr",
     "output_type": "stream",
     "text": [
      "C:\\Users\\Administrator\\AppData\\Local\\Temp\\35\\ipykernel_8668\\3142356720.py:12: DtypeWarning: Columns (6,84) have mixed types. Specify dtype option on import or set low_memory=False.\n",
      "  df = pd.read_csv(data_path)\n"
     ]
    },
    {
     "name": "stdout",
     "output_type": "stream",
     "text": [
      "🔎 Label distribution before split:\n",
      "Label\n",
      "Benign    100000\n",
      "Attack     43787\n",
      "Name: count, dtype: int64\n",
      "✅ Train shape: (115029, 89)\n",
      "✅ Test shape: (28758, 89)\n",
      "🔎 Train label distribution:\n",
      "Label\n",
      "Benign    0.695477\n",
      "Attack    0.304523\n",
      "Name: proportion, dtype: float64\n",
      "🔎 Test label distribution:\n",
      "Label\n",
      "Benign    0.695459\n",
      "Attack    0.304541\n",
      "Name: proportion, dtype: float64\n",
      "✅ Train-Test split files saved successfully.\n"
     ]
    }
   ],
   "source": [
    "# ================================================\n",
    "# 📌 Train-Test Split for ICS Attack Classification\n",
    "# Author: Saif ul islam | Date: 2025-07-10\n",
    "# ================================================\n",
    "\n",
    "# 1. Import required libraries\n",
    "import pandas as pd\n",
    "from sklearn.model_selection import train_test_split\n",
    "\n",
    "# 2. Load your processed dataset\n",
    "data_path = r\"C:\\Users\\Administrator\\Desktop\\Saif\\CIC_Modbus_Research\\Final_Clean_Merged\\combined_attack_benign_encoded_scaled.csv\"\n",
    "df = pd.read_csv(data_path)\n",
    "\n",
    "# 3. Confirm label distribution before splitting\n",
    "print(\"🔎 Label distribution before split:\")\n",
    "print(df['Label'].value_counts())\n",
    "\n",
    "# 4. Define features (X) and target (y)\n",
    "# Drop label from features\n",
    "X = df.drop(columns=['Label'])\n",
    "y = df['Label']\n",
    "\n",
    "# 5. Perform Train-Test Split (80:20) with stratification to maintain class balance\n",
    "X_train, X_test, y_train, y_test = train_test_split(\n",
    "    X, y,\n",
    "    test_size=0.2,\n",
    "    random_state=42,\n",
    "    stratify=y\n",
    ")\n",
    "\n",
    "# 6. Print split summaries\n",
    "print(\"✅ Train shape:\", X_train.shape)\n",
    "print(\"✅ Test shape:\", X_test.shape)\n",
    "print(\"🔎 Train label distribution:\")\n",
    "print(y_train.value_counts(normalize=True))\n",
    "print(\"🔎 Test label distribution:\")\n",
    "print(y_test.value_counts(normalize=True))\n",
    "\n",
    "# 7. Optionally save the splits for model training laterS\n",
    "X_train.to_csv(\"train_features.csv\", index=False)\n",
    "X_test.to_csv(\"test_features.csv\", index=False)\n",
    "y_train.to_csv(\"train_labels.csv\", index=False)\n",
    "y_test.to_csv(\"test_labels.csv\", index=False)\n",
    "\n",
    "print(\"✅ Train-Test split files saved successfully.\")\n"
   ]
  },
  {
   "cell_type": "code",
   "execution_count": 2,
   "id": "fff56462-717d-4854-a16c-eb958e85a0bd",
   "metadata": {},
   "outputs": [
    {
     "name": "stdout",
     "output_type": "stream",
     "text": [
      "[<class 'str'> <class 'float'>]\n",
      "[<class 'str'> <class 'float'>]\n"
     ]
    }
   ],
   "source": [
    "# Check specific columns’ unique types to validate\n",
    "print(df.iloc[:, 6].apply(type).unique())\n",
    "print(df.iloc[:, 84].apply(type).unique())\n"
   ]
  },
  {
   "cell_type": "code",
   "execution_count": 3,
   "id": "06e17094-6c8f-4257-a657-8c78758a3f4d",
   "metadata": {},
   "outputs": [
    {
     "name": "stdout",
     "output_type": "stream",
     "text": [
      "Timestamp\n",
      "Attack\n"
     ]
    }
   ],
   "source": [
    "# Identify the columns’ names for clarity         \n",
    "print(df.columns[6])\n",
    "print(df.columns[84])\n"
   ]
  },
  {
   "cell_type": "code",
   "execution_count": 4,
   "id": "0db6da2d-590c-4b50-9a07-d9e2f333c282",
   "metadata": {},
   "outputs": [],
   "source": [
    "# Convert Timestamp to datetime (coerce errors to NaT)\n",
    "df['Timestamp'] = pd.to_datetime(df['Timestamp'], errors='coerce')\n",
    "\n",
    "# Ensure Attack column is string type\n",
    "df['Attack'] = df['Attack'].astype(str)\n"
   ]
  },
  {
   "cell_type": "code",
   "execution_count": 5,
   "id": "1477d29a-ee1c-4650-8e74-2bb4d74d27f7",
   "metadata": {},
   "outputs": [
    {
     "name": "stdout",
     "output_type": "stream",
     "text": [
      "[<class 'pandas._libs.tslibs.timestamps.Timestamp'>\n",
      " <class 'pandas._libs.tslibs.nattype.NaTType'>]\n",
      "[<class 'str'>]\n"
     ]
    }
   ],
   "source": [
    "print(df['Timestamp'].apply(type).unique())\n",
    "print(df['Attack'].apply(type).unique())\n"
   ]
  },
  {
   "cell_type": "code",
   "execution_count": 6,
   "id": "d443a4d1-4637-42e2-bb6c-b2b9c973cd14",
   "metadata": {},
   "outputs": [
    {
     "name": "stdout",
     "output_type": "stream",
     "text": [
      "✅ Final missing values check: 300000\n"
     ]
    }
   ],
   "source": [
    "# Confirm final missing value status\n",
    "print(\"✅ Final missing values check:\", df.isnull().sum().sum())\n"
   ]
  },
  {
   "cell_type": "code",
   "execution_count": 7,
   "id": "589d596b-e645-4500-8b3e-8ed2b08c16c8",
   "metadata": {},
   "outputs": [
    {
     "name": "stdout",
     "output_type": "stream",
     "text": [
      "Timestamp    100000\n",
      "Hour         100000\n",
      "DayOfWeek    100000\n",
      "dtype: int64\n"
     ]
    }
   ],
   "source": [
    "# Detailed missing values per column\n",
    "missing_counts = df.isnull().sum()\n",
    "print(missing_counts[missing_counts > 0])\n"
   ]
  },
  {
   "cell_type": "code",
   "execution_count": 8,
   "id": "e7ba2e37-4a39-4412-bc89-654d9e70ec4c",
   "metadata": {},
   "outputs": [
    {
     "name": "stdout",
     "output_type": "stream",
     "text": [
      "✅ Final missing values check after drop: 0\n"
     ]
    }
   ],
   "source": [
    "# Recommended final cleaning code\n",
    "# Drop fully missing columns\n",
    "df = df.drop(columns=['Timestamp', 'Hour', 'DayOfWeek'])\n",
    "\n",
    "# Final missing value check\n",
    "print(\"✅ Final missing values check after drop:\", df.isnull().sum().sum())\n"
   ]
  },
  {
   "cell_type": "code",
   "execution_count": 10,
   "id": "b7af051b-9810-4885-aa10-3c4eeb9de198",
   "metadata": {},
   "outputs": [
    {
     "name": "stdout",
     "output_type": "stream",
     "text": [
      "✅ Full cleaned dataset saved.\n",
      "✅ Train and test datasets saved.\n"
     ]
    }
   ],
   "source": [
    "# 🔖 Save cleaned train-test sets for modelling\n",
    "\n",
    "# Save full cleaned dataset\n",
    "df.to_csv('C:/Users/Administrator/Desktop/Saif/CIC_Modbus_Research/Final_Clean_Merged/combined_attack_benign_final_cleaned.csv', index=False)\n",
    "print(\"✅ Full cleaned dataset saved.\")\n",
    "\n",
    "# If you have separate train/test splits already:\n",
    "# Save train and test sets to your main project folder\n",
    "X_train.to_csv('C:/Users/Administrator/Desktop/Saif/CIC_Modbus_Research/Final_Clean_Merged/train_data.csv', index=False)\n",
    "X_test.to_csv('C:/Users/Administrator/Desktop/Saif/CIC_Modbus_Research/Final_Clean_Merged/test_data.csv', index=False)\n",
    "print(\"✅ Train and test datasets saved.\")\n",
    "\n"
   ]
  },
  {
   "cell_type": "code",
   "execution_count": 11,
   "id": "7476f058-6f58-43af-b547-a602b634de83",
   "metadata": {},
   "outputs": [
    {
     "name": "stdout",
     "output_type": "stream",
     "text": [
      "🔎 Train Label Distribution:\n",
      " Label\n",
      "Benign    0.695477\n",
      "Attack    0.304523\n",
      "Name: proportion, dtype: float64\n",
      "🔎 Test Label Distribution:\n",
      " Label\n",
      "Benign    0.695459\n",
      "Attack    0.304541\n",
      "Name: proportion, dtype: float64\n"
     ]
    }
   ],
   "source": [
    "# Check train-test split label distributions match expected stratification\n",
    "print(\"🔎 Train Label Distribution:\\n\", y_train.value_counts(normalize=True))\n",
    "print(\"🔎 Test Label Distribution:\\n\", y_test.value_counts(normalize=True))\n"
   ]
  },
  {
   "cell_type": "code",
   "execution_count": null,
   "id": "23c86164-7e8b-4b1c-97ce-2db8f21d8edb",
   "metadata": {},
   "outputs": [],
   "source": []
  }
 ],
 "metadata": {
  "kernelspec": {
   "display_name": "Python 3 (ipykernel)",
   "language": "python",
   "name": "python3"
  },
  "language_info": {
   "codemirror_mode": {
    "name": "ipython",
    "version": 3
   },
   "file_extension": ".py",
   "mimetype": "text/x-python",
   "name": "python",
   "nbconvert_exporter": "python",
   "pygments_lexer": "ipython3",
   "version": "3.13.5"
  }
 },
 "nbformat": 4,
 "nbformat_minor": 5
}
