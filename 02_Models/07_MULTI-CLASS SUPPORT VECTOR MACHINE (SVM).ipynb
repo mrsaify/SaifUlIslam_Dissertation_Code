{
 "cells": [
  {
   "cell_type": "code",
   "execution_count": null,
   "id": "12e0de20-44de-4f15-865c-b8c35b9d8fce",
   "metadata": {},
   "outputs": [],
   "source": [
    "# TASK 07: MULTI-CLASS SUPPORT VECTOR MACHINE (SVM)\n",
    "\n",
    "import pandas as pd\n",
    "from sklearn.svm import SVC\n",
    "from sklearn.metrics import classification_report, confusion_matrix\n",
    "from sklearn.preprocessing import StandardScaler\n",
    "import joblib\n",
    "\n",
    "# Load data\n",
    "X_train = pd.read_csv(r\"C:\\Users\\Administrator\\Desktop\\Saif\\CIC_Modbus_Research\\Final_Clean_Merged\\multiclass\\X_train.csv\")\n",
    "X_test = pd.read_csv(r\"C:\\Users\\Administrator\\Desktop\\Saif\\CIC_Modbus_Research\\Final_Clean_Merged\\multiclass\\X_test.csv\")\n",
    "y_train = pd.read_csv(r\"C:\\Users\\Administrator\\Desktop\\Saif\\CIC_Modbus_Research\\Final_Clean_Merged\\multiclass\\y_train.csv\").squeeze()\n",
    "y_test = pd.read_csv(r\"C:\\Users\\Administrator\\Desktop\\Saif\\CIC_Modbus_Research\\Final_Clean_Merged\\multiclass\\y_test.csv\").squeeze()\n",
    "\n",
    "# Step 1: Feature Scaling (SVM requires normalized features)\n",
    "scaler = StandardScaler()\n",
    "X_train_scaled = scaler.fit_transform(X_train)\n",
    "X_test_scaled = scaler.transform(X_test)\n",
    "\n",
    "# Step 2: Train SVM using One-vs-Rest strategy\n",
    "svm_model = SVC(kernel='rbf', decision_function_shape='ovr', probability=True, random_state=42)\n",
    "svm_model.fit(X_train_scaled, y_train)\n",
    "\n",
    "# Step 3: Predict\n",
    "y_pred = svm_model.predict(X_test_scaled)\n",
    "\n",
    "# Step 4: Evaluate\n",
    "print(\"✅ SVM Classification Report:\\n\")\n",
    "print(classification_report(y_test, y_pred))\n",
    "\n",
    "print(\"🔍 Confusion Matrix:\")\n",
    "print(confusion_matrix(y_test, y_pred))\n",
    "\n",
    "# Step 5: Save model\n",
    "joblib.dump(svm_model, r\"C:\\Users\\Administrator\\Desktop\\Saif\\CIC_Modbus_Research\\Final_Clean_Merged\\multiclass\\svm_model.pkl\")\n",
    "joblib.dump(scaler, r\"C:\\Users\\Administrator\\Desktop\\Saif\\CIC_Modbus_Research\\Final_Clean_Merged\\multiclass\\svm_scaler.pkl\")\n",
    "print(\"\\n📁 Trained SVM model and scaler saved.\")\n"
   ]
  },
  {
   "cell_type": "code",
   "execution_count": 1,
   "id": "258088ea-c0ff-43dc-a023-cb303be55e3f",
   "metadata": {},
   "outputs": [
    {
     "name": "stdout",
     "output_type": "stream",
     "text": [
      "✅ scikit-learn version: 1.6.1\n"
     ]
    }
   ],
   "source": [
    "import sklearn\n",
    "from sklearn.svm import SVC\n",
    "\n",
    "print(\"✅ scikit-learn version:\", sklearn.__version__)\n"
   ]
  },
  {
   "cell_type": "code",
   "execution_count": null,
   "id": "89097da2-06e1-4c72-afec-70909088df0b",
   "metadata": {},
   "outputs": [],
   "source": []
  }
 ],
 "metadata": {
  "kernelspec": {
   "display_name": "Python 3 (ipykernel)",
   "language": "python",
   "name": "python3"
  },
  "language_info": {
   "codemirror_mode": {
    "name": "ipython",
    "version": 3
   },
   "file_extension": ".py",
   "mimetype": "text/x-python",
   "name": "python",
   "nbconvert_exporter": "python",
   "pygments_lexer": "ipython3",
   "version": "3.13.5"
  }
 },
 "nbformat": 4,
 "nbformat_minor": 5
}
