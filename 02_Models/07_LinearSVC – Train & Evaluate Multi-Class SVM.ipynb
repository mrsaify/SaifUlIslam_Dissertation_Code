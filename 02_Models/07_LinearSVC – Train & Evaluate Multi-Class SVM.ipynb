{
 "cells": [
  {
   "cell_type": "code",
   "execution_count": null,
   "id": "abd6a635-66fb-4656-9de6-8c6b29fef803",
   "metadata": {},
   "outputs": [],
   "source": [
    "# TASK 07: LINEAR SVM FOR MULTI-CLASS ICS ATTACK DETECTION\n",
    "\n",
    "import pandas as pd\n",
    "from sklearn.svm import LinearSVC\n",
    "from sklearn.preprocessing import StandardScaler\n",
    "from sklearn.metrics import classification_report, confusion_matrix\n",
    "import joblib\n",
    "\n",
    "# === Step 1: Load your train-test datasets ===\n",
    "X_train = pd.read_csv(r\"C:\\Users\\Administrator\\Desktop\\Saif\\CIC_Modbus_Research\\Final_Clean_Merged\\multiclass\\X_train.csv\")\n",
    "X_test = pd.read_csv(r\"C:\\Users\\Administrator\\Desktop\\Saif\\CIC_Modbus_Research\\Final_Clean_Merged\\multiclass\\X_test.csv\")\n",
    "y_train = pd.read_csv(r\"C:\\Users\\Administrator\\Desktop\\Saif\\CIC_Modbus_Research\\Final_Clean_Merged\\multiclass\\y_train.csv\").squeeze()\n",
    "y_test = pd.read_csv(r\"C:\\Users\\Administrator\\Desktop\\Saif\\CIC_Modbus_Research\\Final_Clean_Merged\\multiclass\\y_test.csv\").squeeze()\n",
    "\n",
    "# === Step 2: Scale features (important for SVM) ===\n",
    "scaler = StandardScaler()\n",
    "X_train_scaled = scaler.fit_transform(X_train)\n",
    "X_test_scaled = scaler.transform(X_test)\n",
    "\n",
    "# === Step 3: Train Linear SVM ===\n",
    "svm_model = LinearSVC(multi_class='ovr', max_iter=5000, random_state=42)\n",
    "svm_model.fit(X_train_scaled, y_train)\n",
    "\n",
    "# === Step 4: Predict and Evaluate ===\n",
    "y_pred = svm_model.predict(X_test_scaled)\n",
    "\n",
    "print(\"✅ LinearSVC Classification Report:\\n\")\n",
    "print(classification_report(y_test, y_pred))\n",
    "\n",
    "print(\"🔍 Confusion Matrix:\")\n",
    "print(confusion_matrix(y_test, y_pred))\n",
    "\n",
    "# === Step 5: Save Model & Scaler ===\n",
    "joblib.dump(svm_model, r\"C:\\Users\\Administrator\\Desktop\\Saif\\CIC_Modbus_Research\\Final_Clean_Merged\\multiclass\\linear_svm_model.pkl\")\n",
    "joblib.dump(scaler, r\"C:\\Users\\Administrator\\Desktop\\Saif\\CIC_Modbus_Research\\Final_Clean_Merged\\multiclass\\linear_svm_scaler.pkl\")\n",
    "print(\"\\n📁 Linear SVM model and scaler saved.\")\n"
   ]
  },
  {
   "cell_type": "code",
   "execution_count": null,
   "id": "45555a20-f0c0-44dd-8f26-850bacc851d5",
   "metadata": {},
   "outputs": [],
   "source": []
  }
 ],
 "metadata": {
  "kernelspec": {
   "display_name": "Python 3 (ipykernel)",
   "language": "python",
   "name": "python3"
  },
  "language_info": {
   "codemirror_mode": {
    "name": "ipython",
    "version": 3
   },
   "file_extension": ".py",
   "mimetype": "text/x-python",
   "name": "python",
   "nbconvert_exporter": "python",
   "pygments_lexer": "ipython3",
   "version": "3.13.5"
  }
 },
 "nbformat": 4,
 "nbformat_minor": 5
}
